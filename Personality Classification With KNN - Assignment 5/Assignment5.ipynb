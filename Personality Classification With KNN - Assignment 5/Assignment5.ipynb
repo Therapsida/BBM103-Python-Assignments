{
 "cells": [
  {
   "cell_type": "code",
   "execution_count": 20,
   "id": "82bfef13",
   "metadata": {},
   "outputs": [],
   "source": [
    "import pandas as pd \n",
    "import numpy as np \n",
    "import math \n",
    "import time"
   ]
  },
  {
   "attachments": {},
   "cell_type": "markdown",
   "id": "ce9c3b0f",
   "metadata": {},
   "source": [
    "Yunus Emre Uluer 2210356102"
   ]
  },
  {
   "cell_type": "code",
   "execution_count": 21,
   "id": "170a58c4",
   "metadata": {},
   "outputs": [],
   "source": [
    "f = pd.read_csv('16P.csv')\n",
    "f.drop(columns='Response Id')\n",
    "personalitydict = {'ESTJ' : 0 , 'ENTJ' : 1, 'ESFJ' : 2 ,'ENFJ' : 3 ,'ISTJ' : 4 ,'ISFJ' : 5,'INTJ' : 6,'INFJ' : 7 ,'ESTP' : 8\t,'ESFP' : 9,'ENTP' : 10 ,'ENFP' : 11 ,'ISTP' : 12,'ISFP' : 13\t,'INTP' : 14,'INFP' : 15}\n",
    "f.drop(columns='Response Id' , inplace=True)\n",
    "f.replace(personalitydict, inplace=True)\n"
   ]
  },
  {
   "cell_type": "markdown",
   "id": "0c17e790",
   "metadata": {},
   "source": [
    "The basic part of the code"
   ]
  },
  {
   "cell_type": "code",
   "execution_count": 27,
   "id": "78768b84",
   "metadata": {},
   "outputs": [],
   "source": [
    "def KNN(k,train,test,trained_personality,actual_personality) : \n",
    "\n",
    "    euclidian_distance = np.sqrt(np.sum(train**2, axis=1) + np.sum(test**2, axis=1)[:, np.newaxis]+ -2 * np.dot(test, train.T)) \n",
    "    #euclidian distance it uses matrix multiplicaton. The shape of euclidian distance is (48000,12000) this means for every row \n",
    "    # is an array which gives the distance between trained value. euclidian distance is (x-y)square. This line uses xsquare + ysquare-2xy\n",
    "\n",
    "     \n",
    "    closest_k = np.argpartition(euclidian_distance, k, axis=1)[:, :k] # It gives the indexes of closest k's .And this indexes will be the first k value.\n",
    "    #After it sorts(kind of) it takes those values to an array and proceed.\n",
    "    closest_k_personalities = trained_personality[closest_k] #trained personality has the same indexes as euclidian distance so this indexes gives personality encodes.\n",
    "\n",
    "    predicted_personality = []\n",
    "    for i in closest_k_personalities:\n",
    "        predicted_personality.append(np.bincount(i).argmax())     #We get the max repeated value and predict it. The array is 1dimensional now\n",
    "    data = {'Actual' : actual_personality , 'Predicted' : predicted_personality}\n",
    "    datas =   pd.DataFrame(data)\n",
    "\n",
    "    confusion_matrix = pd.crosstab(datas['Actual'], datas['Predicted'], )\n",
    "    confusion_matrix = confusion_matrix.to_numpy()\n",
    "\n",
    "\n",
    "    TP_FN = confusion_matrix.sum(1)    #axis 1 sum gives TP_FN\n",
    "    TP_FP = confusion_matrix.sum(0)    #axis 0 sum gives TP_FP\n",
    "    TP = confusion_matrix.diagonal()   #diagonal one gives TP only\n",
    "\n",
    "    FP_FN = (TP_FN + TP_FP) -2*TP    #math calculations for FP_FN\n",
    "\n",
    "    precision = ((TP / TP_FP).sum())/16 #macro\n",
    "    recall = ((TP / TP_FN).sum())/16\n",
    "    accuracy =(((confusion_matrix.sum()-(FP_FN)) /confusion_matrix.sum()).sum())/16\n",
    "    return precision,recall,accuracy\n"
   ]
  },
  {
   "cell_type": "markdown",
   "id": "f633d326",
   "metadata": {},
   "source": [
    "Fold Function : \n"
   ]
  },
  {
   "cell_type": "code",
   "execution_count": 28,
   "id": "a1ff9949",
   "metadata": {},
   "outputs": [],
   "source": [
    "def fold_for_k(j):\n",
    "    for k in [1,2,3,4,5] : \n",
    "        k = k-1\n",
    "        Y = f['Personality']\n",
    "        Y = Y.to_numpy()\n",
    "        f.drop(columns='Personality')\n",
    "        array = f.to_numpy()\n",
    "        normalized_array = (array-3)/6  #normalization\n",
    "\n",
    "        train = np.delete(array,slice(12000*k,12000*(k+1)-1),0)      #splitting the data\n",
    "        test = array[12000*k:12000*(k+1)-1]\n",
    "\n",
    "        normalizedtrain = np.delete(normalized_array, (slice(12000*k,12000*(k+1)-1)),0)\n",
    "        normalizedtest = normalized_array[12000*k:12000*(k+1)-1]\n",
    "\n",
    "        trainedpersonality= np.delete(Y, slice(12000*k,12000*(k+1)-1))\n",
    "        actualpersonality = Y[12000*k:12000*(k+1)-1]   \n",
    "\n",
    "        withoutnormalization   =  KNN(j,train,test,trainedpersonality,actualpersonality)\n",
    "        withoutnormalization_100 =  tuple(100 * elem for elem in withoutnormalization)    #getting the values\n",
    "        normalization = KNN(j,normalizedtrain,normalizedtest,trainedpersonality,actualpersonality)\n",
    "        normalization_100 =  tuple(100 * elem for elem in normalization)\n",
    "        \n",
    "        \n",
    "        df = { f'K-NN for {j}, Fold-{k+1}': ['Without Normalization','Normalization'],'Accuracy': [withoutnormalization_100[2],normalization_100[2]],'Recall': [withoutnormalization_100[1],normalization_100[1]], 'Precision': [withoutnormalization_100[0],normalization_100[0]] }\n",
    "        df = pd.DataFrame(df)    \n",
    "        df.set_index(f'K-NN for {j}, Fold-{k+1}',inplace=True)\n",
    "        print(df,'\\n')\n",
    "\n"
   ]
  },
  {
   "cell_type": "code",
   "execution_count": 29,
   "id": "cdc9f0df",
   "metadata": {
    "scrolled": true
   },
   "outputs": [
    {
     "name": "stdout",
     "output_type": "stream",
     "text": [
      "                        Accuracy     Recall  Precision\n",
      "K-NN for 1, Fold-1                                    \n",
      "Without Normalization  99.873948  98.989658  98.994213\n",
      "Normalization          99.872906  98.981774  98.986069 \n",
      "\n",
      "                        Accuracy     Recall  Precision\n",
      "K-NN for 1, Fold-2                                    \n",
      "Without Normalization  99.867697  98.941353  98.941354\n",
      "Normalization          99.868739  98.949300  98.949499 \n",
      "\n",
      "                        Accuracy     Recall  Precision\n",
      "K-NN for 1, Fold-3                                    \n",
      "Without Normalization  99.876031  99.011218  99.019163\n",
      "Normalization          99.879157  99.035874  99.043223 \n",
      "\n",
      "                        Accuracy     Recall  Precision\n",
      "K-NN for 1, Fold-4                                    \n",
      "Without Normalization  99.868739  98.951303  98.947875\n",
      "Normalization          99.868739  98.951303  98.947843 \n",
      "\n",
      "                        Accuracy     Recall  Precision\n",
      "K-NN for 1, Fold-5                                    \n",
      "Without Normalization  99.871864  98.972989  98.970932\n",
      "Normalization          99.871864  98.972556  98.971933 \n",
      "\n"
     ]
    }
   ],
   "source": [
    "fold_for_k(1)"
   ]
  },
  {
   "cell_type": "code",
   "execution_count": 30,
   "id": "ebd3bd1c",
   "metadata": {
    "scrolled": true
   },
   "outputs": [
    {
     "name": "stdout",
     "output_type": "stream",
     "text": [
      "                        Accuracy     Recall  Precision\n",
      "K-NN for 3, Fold-1                                    \n",
      "Without Normalization  99.890616  99.122937  99.127080\n",
      "Normalization          99.890616  99.122937  99.126969 \n",
      "\n",
      "                        Accuracy     Recall  Precision\n",
      "K-NN for 3, Fold-2                                    \n",
      "Without Normalization  99.879157  99.032504  99.032678\n",
      "Normalization          99.879157  99.032504  99.033222 \n",
      "\n",
      "                        Accuracy     Recall  Precision\n",
      "K-NN for 3, Fold-3                                    \n",
      "Without Normalization  99.893741  99.153871  99.154064\n",
      "Normalization          99.893741  99.153828  99.154267 \n",
      "\n",
      "                        Accuracy     Recall  Precision\n",
      "K-NN for 3, Fold-4                                    \n",
      "Without Normalization  99.880198  99.041533  99.037756\n",
      "Normalization          99.880198  99.041533  99.038064 \n",
      "\n",
      "                        Accuracy     Recall  Precision\n",
      "K-NN for 3, Fold-5                                    \n",
      "Without Normalization  99.887491  99.098499  99.096468\n",
      "Normalization          99.887491  99.098499  99.096654 \n",
      "\n"
     ]
    }
   ],
   "source": [
    "fold_for_k(3)"
   ]
  },
  {
   "cell_type": "code",
   "execution_count": 31,
   "id": "d283ad29",
   "metadata": {},
   "outputs": [
    {
     "name": "stdout",
     "output_type": "stream",
     "text": [
      "                        Accuracy     Recall  Precision\n",
      "K-NN for 5, Fold-1                                    \n",
      "Without Normalization  99.893741  99.147919  99.152460\n",
      "Normalization          99.893741  99.147919  99.152553 \n",
      "\n",
      "                        Accuracy     Recall  Precision\n",
      "K-NN for 5, Fold-2                                    \n",
      "Without Normalization  99.885407  99.083354  99.084556\n",
      "Normalization          99.885407  99.083354  99.084342 \n",
      "\n",
      "                        Accuracy     Recall  Precision\n",
      "K-NN for 5, Fold-3                                    \n",
      "Without Normalization  99.895825  99.169418  99.174332\n",
      "Normalization          99.895825  99.169418  99.175292 \n",
      "\n",
      "                       Accuracy    Recall  Precision\n",
      "K-NN for 5, Fold-4                                  \n",
      "Without Normalization  99.88124  99.04942  99.045091\n",
      "Normalization          99.88124  99.04942  99.044994 \n",
      "\n",
      "                        Accuracy     Recall  Precision\n",
      "K-NN for 5, Fold-5                                    \n",
      "Without Normalization  99.882282  99.057101  99.055278\n",
      "Normalization          99.883324  99.065525  99.063319 \n",
      "\n"
     ]
    }
   ],
   "source": [
    "fold_for_k(5)"
   ]
  },
  {
   "cell_type": "code",
   "execution_count": 32,
   "id": "18bc8023",
   "metadata": {},
   "outputs": [
    {
     "name": "stdout",
     "output_type": "stream",
     "text": [
      "                        Accuracy     Recall  Precision\n",
      "K-NN for 7, Fold-1                                    \n",
      "Without Normalization  99.893741  99.147937  99.150723\n",
      "Normalization          99.893741  99.147937  99.150631 \n",
      "\n",
      "                        Accuracy     Recall  Precision\n",
      "K-NN for 7, Fold-2                                    \n",
      "Without Normalization  99.882282  99.058302  99.059128\n",
      "Normalization          99.881240  99.050330  99.049521 \n",
      "\n",
      "                        Accuracy     Recall  Precision\n",
      "K-NN for 7, Fold-3                                    \n",
      "Without Normalization  99.894783  99.161414  99.167028\n",
      "Normalization          99.894783  99.161414  99.166462 \n",
      "\n",
      "                        Accuracy     Recall  Precision\n",
      "K-NN for 7, Fold-4                                    \n",
      "Without Normalization  99.880198  99.040336  99.036229\n",
      "Normalization          99.880198  99.040336  99.036592 \n",
      "\n",
      "                        Accuracy     Recall  Precision\n",
      "K-NN for 7, Fold-5                                    \n",
      "Without Normalization  99.884365  99.073836  99.071978\n",
      "Normalization          99.885407  99.082038  99.080495 \n",
      "\n"
     ]
    }
   ],
   "source": [
    "fold_for_k(7)"
   ]
  },
  {
   "cell_type": "code",
   "execution_count": 33,
   "id": "7d3603cb",
   "metadata": {},
   "outputs": [
    {
     "name": "stdout",
     "output_type": "stream",
     "text": [
      "                        Accuracy     Recall  Precision\n",
      "K-NN for 9, Fold-1                                    \n",
      "Without Normalization  99.894783  99.156128  99.158824\n",
      "Normalization          99.894783  99.156128  99.158732 \n",
      "\n",
      "                        Accuracy     Recall  Precision\n",
      "K-NN for 9, Fold-2                                    \n",
      "Without Normalization  99.883324  99.067453  99.065443\n",
      "Normalization          99.884365  99.075344  99.073641 \n",
      "\n",
      "                        Accuracy     Recall  Precision\n",
      "K-NN for 9, Fold-3                                    \n",
      "Without Normalization  99.894783  99.160758  99.166219\n",
      "Normalization          99.894783  99.160758  99.166227 \n",
      "\n",
      "                        Accuracy     Recall  Precision\n",
      "K-NN for 9, Fold-4                                    \n",
      "Without Normalization  99.879157  99.032127  99.029579\n",
      "Normalization          99.880198  99.039703  99.037333 \n",
      "\n",
      "                        Accuracy     Recall  Precision\n",
      "K-NN for 9, Fold-5                                    \n",
      "Without Normalization  99.887491  99.098766  99.097548\n",
      "Normalization          99.887491  99.098766  99.097548 \n",
      "\n"
     ]
    }
   ],
   "source": [
    "fold_for_k(9)"
   ]
  },
  {
   "cell_type": "markdown",
   "id": "a85e8090",
   "metadata": {},
   "source": [
    "Every fold value in 5-fold cross validation have similar values on every k. This means the algorithm does not rely on  positions of the data and can be trusted(with 5-fold cross validation). \n",
    "\n",
    "Normalization did not effect the accuracy, recall,precision. Because normalization effects when the classes are not scaled. In our data every class(whis is a question) takes values between -3 and 3 so it is already scaled. The diffrence between normalization and without-normalization should be because of the errors due to float values.    \n",
    "\n",
    "The best K-NN value which gives the most accuracy is 5 . But it is so similar when K equals 9. The best value of K can be calculated by test so The value 5-9 can be used. Also 3-7 is accurate. The number of test can be increased for better examination. Recall and Precision is nearly the same as accuracy. The best ones are 5-9. But the diffrence is very low.\n",
    "\n",
    "Errors : Because every class are not cumulated in the same place, when euclidian_distance values are refers diffrent personalities algorithm chooses it randomly. This cause errors. "
   ]
  }
 ],
 "metadata": {
  "kernelspec": {
   "display_name": "Python 3 (ipykernel)",
   "language": "python",
   "name": "python3"
  },
  "language_info": {
   "codemirror_mode": {
    "name": "ipython",
    "version": 3
   },
   "file_extension": ".py",
   "mimetype": "text/x-python",
   "name": "python",
   "nbconvert_exporter": "python",
   "pygments_lexer": "ipython3",
   "version": "3.11.0"
  }
 },
 "nbformat": 4,
 "nbformat_minor": 5
}
